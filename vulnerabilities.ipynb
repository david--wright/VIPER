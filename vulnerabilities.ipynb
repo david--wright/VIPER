{
 "cells": [
  {
   "cell_type": "code",
   "execution_count": 1,
   "metadata": {
    "tags": []
   },
   "outputs": [],
   "source": [
    "import sys\n",
    "\n",
    "if not sys.warnoptions:\n",
    "    import warnings\n",
    "    warnings.simplefilter(\"ignore\")"
   ]
  },
  {
   "cell_type": "code",
   "execution_count": 2,
   "metadata": {
    "tags": []
   },
   "outputs": [],
   "source": [
    "import pandas as pd \n",
    "\n",
    "from dbconn import get_database\n",
    "from dataload import loadData, load_cves\n",
    "from IPython.display import display,HTML\n",
    "from itables import show,options\n",
    "from ipywidgets import Dropdown, interactive, Box, HBox,VBox, Output, Tab, Label, Layout\n",
    "from matplotlib import pyplot\n",
    "from pandas.plotting import scatter_matrix\n",
    "from sklearn import linear_model\n",
    "\n",
    "options.maxBytes=0\n"
   ]
  },
  {
   "cell_type": "code",
   "execution_count": 3,
   "metadata": {
    "tags": []
   },
   "outputs": [],
   "source": [
    "\n",
    "def load_vulerability_history():\n",
    "    return loadData(\"data/vuln_hist.p\")\n",
    "\n",
    "predictive_df_out = Output(layout={'width': '100%'})\n",
    "cpe_history = load_vulerability_history()\n",
    "df = pd.DataFrame.from_dict(cpe_history, orient='index')\n",
    "df.columns = ['2020', '2021', '2022', '2023', 'low', 'medium', 'high', 'critical', 'labeled risk']\n",
    "with predictive_df_out:\n",
    "    show(df)\n",
    "\n",
    "    "
   ]
  },
  {
   "cell_type": "code",
   "execution_count": 4,
   "metadata": {
    "tags": []
   },
   "outputs": [],
   "source": [
    "from sklearn.linear_model import LogisticRegression\n",
    "from sklearn.metrics import accuracy_score,confusion_matrix, ConfusionMatrixDisplay\n",
    "from sklearn.model_selection import train_test_split\n",
    "from sklearn.pipeline import make_pipeline\n",
    "from sklearn.preprocessing import StandardScaler\n",
    "\n",
    "\n",
    "def create_logistic_model(df):\n",
    "    confusion_out = Output(layout={'width': '50%'})\n",
    "    y = df.values [:,8]\n",
    "    X = df.values [:,0:8]\n",
    "    X_train, X_test, y_train, y_test = train_test_split(X, y, test_size=0.3)\n",
    "    pipe = make_pipeline(StandardScaler(), LogisticRegression())\n",
    "    pipe.fit(X_train, y_train)  # apply scaling on training data\n",
    "    y_pred = pipe.predict(X_test)\n",
    "    logistic_accuracy=accuracy_score (y_test, y_pred)*100\n",
    "    cm = confusion_matrix(y_test, y_pred, labels=pipe.classes_)\n",
    "    ConfusionMatrixDisplay(confusion_matrix=cm, display_labels=pipe.classes_).plot()\n",
    "    with confusion_out:\n",
    "        pyplot.show()\n",
    "    return (pipe, confusion_out, logistic_accuracy)\n",
    "\n",
    "    \n"
   ]
  },
  {
   "cell_type": "code",
   "execution_count": 5,
   "metadata": {
    "tags": []
   },
   "outputs": [],
   "source": [
    "# Create svm model\n",
    "from sklearn import svm\n",
    "\n",
    "def create_svm_model(df):\n",
    "    confusion_svm_out = Output(layout={'width': '50%'})\n",
    "    y = df.values [:,8]\n",
    "    X = df.values [:,0:8]\n",
    "    X_train, X_test, y_train, y_test = train_test_split(X, y, test_size=0.3)\n",
    "    pipe_svm = make_pipeline(StandardScaler(), svm.SVC())\n",
    "    pipe_svm.fit(X_train,y_train)\n",
    "    y_pred_svm = pipe_svm.predict(X_test)\n",
    "    svm_accuracy=accuracy_score (y_test, y_pred_svm)*100  \n",
    "    cm_svm = confusion_matrix(y_test, y_pred_svm, labels=pipe_svm.classes_)\n",
    "    ConfusionMatrixDisplay(confusion_matrix=cm_svm, display_labels=pipe_svm.classes_).plot()\n",
    "    with confusion_svm_out:\n",
    "        pyplot.show()\n",
    "    return (pipe_svm, confusion_svm_out, svm_accuracy)\n",
    "       "
   ]
  },
  {
   "cell_type": "code",
   "execution_count": 6,
   "metadata": {},
   "outputs": [],
   "source": [
    "def predict(brand, product, data, test_result=None):\n",
    "    if test_result:\n",
    "        return test_result\n",
    "    brand_product = (brand, product)\n",
    "    try:\n",
    "        product_data = data.loc[[brand_product]]\n",
    "    except KeyError:\n",
    "        return \"Inconclusive\"\n",
    "    logistic_predict = pipe.predict(product_data.values [:,0:8])[0]\n",
    "    svm_predict = pipe_svm.predict(product_data.values [:,0:8])[0]\n",
    "    if logistic_accuracy > svm_accuracy:\n",
    "        return logistic_predict\n",
    "    else:\n",
    "        return svm_predict"
   ]
  },
  {
   "cell_type": "code",
   "execution_count": 7,
   "metadata": {
    "tags": []
   },
   "outputs": [],
   "source": [
    "pipe, confusion_out, logistic_accuracy = create_logistic_model(df)\n",
    "pipe_svm, confusion_svm_out, svm_accuracy = create_svm_model(df)"
   ]
  },
  {
   "cell_type": "code",
   "execution_count": 8,
   "metadata": {},
   "outputs": [],
   "source": [
    "# load Brand and product data\n",
    "db=get_database()\n",
    "cpe_targets = db[\"cpe_targets\"]\n",
    "cpe_list = cpe_targets.find({ 'brand': {'$regex': '.*'}},{ 'brand': 1, 'product': 1 })\n",
    "cpeFormatted = set([(x['brand'],x['product']) for x in cpe_list])\n",
    "cpeBrands = sorted(set([cpe[0] for cpe in cpeFormatted]))"
   ]
  },
  {
   "cell_type": "code",
   "execution_count": 9,
   "metadata": {
    "tags": []
   },
   "outputs": [],
   "source": [
    "start_loading_sync = Label(value=\"0\")\n",
    "\n",
    "def updateProductSelection(*args):\n",
    "    product_widget.options = sorted(set([cpe[1] for cpe in cpeFormatted if cpe[0] == brands_widget.value]))\n",
    "\n",
    "def updateViperDisplay(*args):\n",
    "    start_loading_sync.value = str(int(start_loading_sync.value) + 1)\n",
    "    if int(start_loading_sync.value) > 0:\n",
    "        try:\n",
    "            for c in w.children:\n",
    "                if isinstance(c, Output):\n",
    "                    if '{} {}'.format(brands_widget.value.capitalize(), product_widget.value.capitalize()) in c.outputs[0]['data']['text/plain']:\n",
    "                        load_label.value = \"\"\n",
    "                    else:\n",
    "                        load_label.value = 'Loading {} {}'.format(brands_widget.value.capitalize(), product_widget.value.capitalize())\n",
    "        except:\n",
    "            pass\n",
    "def updateViperProductLabel(*args):\n",
    "    load_label.value = \"\"\n",
    "    start_loading_sync.value = \"-3\"\n",
    "            \n",
    " \n",
    "def displayVisualizations(brand, product):  \n",
    "    # Only display visualizations if the brand and product are defined and that brand and product go together. \n",
    "    # Without this when the brand is changed it will try to pull something like 'Google Windows' which obviously causes errors  \n",
    "    if brand and product and (brand, product) in cpeFormatted: \n",
    "    # Define layouts that will be used for displaying the page\n",
    "        load_label.value = 'Loading {} {}'.format(brand.capitalize(), product.capitalize())\n",
    "        center_half = Layout(display=\"flex\", justify_content=\"center\", align_items=\"center\", width= '50%')\n",
    "        center_full = Layout(display=\"flex\", justify_content=\"center\", align_items=\"baseline\", width= '100%')\n",
    "        center_align_full = Layout(display=\"flex\", justify_content=\"space-around\", align_items=\"center\")\n",
    "        center_top = Layout(display=\"flex\", justify_content=\"center\", align_items=\"center\", flex='1 1 auto', width = '98%')\n",
    "        center_error =  Layout(display=\"flex\", justify_content=\"center\", align_items=\"center\", flex='1 1 auto', width = '750px')\n",
    "        section_label = Layout(display=\"flex\", justify_content=\"center\", align_items=\"center\", border=\"solid\", padding=\"0 10px 0 10px\")\n",
    "        banner_top = Layout(display=\"flex\", justify_content=\"center\", align_items=\"center\", border=\"solid\", padding=\"0 10px 0 10px\")\n",
    "        \n",
    "    # Define a dictionary that changes the bg color of the predictive level label\n",
    "        predictive_level_bg = {\"CRITICAL\": 'red', 'HIGH': 'lightsalmon', 'MEDIUM': 'greenyellow', 'LOW': 'green', 'Inconclusive': 'Lavender'}\n",
    "    \n",
    "    # Create Output widgets for the visualizations - This allows us to treat arbitrary data as an IPyWidget\n",
    "        hist_out = Output()\n",
    "        scatter_out = Output()\n",
    "        line_out = Output()\n",
    "        vuln_count_out = Output()\n",
    "        vuln_detail_out = Output(layout=center_top)\n",
    "        \n",
    "    # Destroy the datatables if they exist. This is needed because the js library itables uses pops up html alerts rather than throwing exceptions....\n",
    "        try:\n",
    "            dfVulnDetail.destroy()\n",
    "            dfVs.destroy()\n",
    "        except:\n",
    "            pass\n",
    "    # Fetch data\n",
    "        try:\n",
    "            dfVulnDetail = load_cves(brand, product, version_limit = 10)\n",
    "        except KeyError:\n",
    "            dfVulnDetail =  pd.DataFrame()\n",
    "    # Check that we have data\n",
    "        if dfVulnDetail.empty:\n",
    "            data_error = Label(value=\"The National Vulnerability Database has insufficient data on this product to display predictions or visualizations.\", layout=center_error)\n",
    "            data_error.style.background = predictive_level_bg[\"CRITICAL\"]\n",
    "            display (data_error)\n",
    "        else:\n",
    "        # Create the detailed vulnerability datatable\n",
    "            options.columnDefs = [{\"width\": \"25x\", \"targets\": \"_all\"}]\n",
    "            with vuln_detail_out:\n",
    "                show(dfVulnDetail, columnDefs=[{\"width\": \"25x\", \"targets\": \"_all\"}], scrollX=\"true\")\n",
    "\n",
    "        # Create the histogram\n",
    "            dfVulnDetail.hist(column=[\"score\", \"version\"], by=\"version\")\n",
    "            with hist_out:\n",
    "                pyplot.show()\n",
    "\n",
    "        # Create the vulnerability count datatable\n",
    "            vulnCounts = dfVulnDetail.value_counts(subset=[\"version\", \"score_text\"])\n",
    "            dfVs = pd.DataFrame(vulnCounts).reset_index()\n",
    "            dfVs.columns = [\"version\", \"score_text\", \"score_count\"]\n",
    "            dfVs= dfVs.sort_values(by=[\"version\"])      \n",
    "            with vuln_count_out:\n",
    "                show(vulnCounts)\n",
    "\n",
    "        # Create the scatter matrix\n",
    "            scatter = scatter_matrix(dfVs)\n",
    "            with scatter_out:\n",
    "                pyplot.show()\n",
    "\n",
    "        # Create the line graph\n",
    "            fig,ax= pyplot.subplots()\n",
    "            for score in [\"LOW\", \"MEDIUM\", \"HIGH\", \"CRITICAL\"]:\n",
    "                ax.plot(dfVs[dfVs.score_text==score].version, dfVs[dfVs.score_text==score].score_count, label=score)\n",
    "            ax.set_xlabel(\"Versions\")\n",
    "            ax.set_ylabel(\"Vulnerabilities\")\n",
    "            ax.legend(loc=\"best\")\n",
    "            with line_out:\n",
    "                pyplot.show()\n",
    "\n",
    "         # Format the VIPER tab\n",
    "            predict_level=predict(brand, product, df)\n",
    "            product_label.value = \"{} {}\".format(brand.capitalize(), product.capitalize())\n",
    "            product_label.style.background = predictive_level_bg[predict_level]\n",
    "            product_label.layout = center_top\n",
    "            vuln_count_label = Label(value=\"Vulnerability Counts by Version and Severity\", layout=section_label)\n",
    "            vuln_count_box = VBox([vuln_count_label, vuln_count_out], layout=center_half)\n",
    "            hist_label = Label(value=\"Score Histogram by Version\", layout=section_label)\n",
    "            hist_box = VBox([hist_label, hist_out], layout=center_half)\n",
    "            scatter_label = Label(value=\"Vulnerability Histogram by Version and Severity\", layout=section_label)\n",
    "            scatter_box = VBox([scatter_label, scatter_out], layout=center_half)\n",
    "            line_label = Label(value=\"Vulnerabilities by Version and Severity\", layout=section_label)\n",
    "            line_box = VBox([line_label, line_out], layout=center_half)\n",
    "            vuln_detail_label = Label(value=\"Past Vulnerabilities\", layout=section_label)\n",
    "            vuln_detail_box = VBox([vuln_detail_label, vuln_detail_out], layout=center_align_full)\n",
    "            predictive_label = Label(value=\"Predicted Future Vulnerability Level\", layout=section_label)\n",
    "            predictive_level = Label(value=predict_level, layout=center_top)\n",
    "            predictive_level.style.background = predictive_level_bg[predict_level]\n",
    "            predictive_box = VBox([product_label, predictive_label, predictive_level], layout=center_align_full, background=predictive_level_bg[predict_level])\n",
    "            middle_row = HBox([vuln_count_box, hist_box], layout=center_full)\n",
    "            bottom_row = HBox([scatter_box, line_box], layout=center_full)\n",
    "            viper_display = VBox([predictive_box, vuln_detail_box, middle_row, bottom_row])\n",
    "\n",
    "        # Format the Metadata Tab \n",
    "            logistic_accuracy_score = Label(value=\"Logistic Regression - {:0.2f}% accuracy\".format(logistic_accuracy), layout=Layout(display=\"flex\", justify_content=\"center\", align_items=\"center\", border=\"solid\", padding=\"0 10px 0 10px\"))\n",
    "            svm_accuracy_score = Label(value=\"Support Vector Machine - {:0.2f}% accuracy\".format(svm_accuracy),  layout=Layout(display=\"flex\", justify_content=\"center\", align_items=\"center\", border=\"solid\", padding=\"0 10px 0 10px\"))\n",
    "            predictive_df_label = Label(value=\"Vulnerability Counts by Version and Severity\", layout=section_label)\n",
    "            predictive_df_box = VBox([predictive_df_label, predictive_df_out], layout=center_align_full)\n",
    "            logistic_box = VBox([logistic_accuracy_score, confusion_out], layout=center_half)\n",
    "            svm_box = VBox([svm_accuracy_score, confusion_svm_out], layout=center_half)\n",
    "            meta_bottom_row = HBox([logistic_box, svm_box], layout=center_full)\n",
    "            metadata_display = VBox([predictive_df_box, meta_bottom_row])\n",
    "\n",
    "        # Create the Tab object and populating it\n",
    "            t = Tab()\n",
    "            t.children = [viper_display, metadata_display]\n",
    "            t.set_title(0, 'VIPER')\n",
    "            t.set_title(1, 'Metadata')\n",
    "\n",
    "        # Display the tab object\n",
    "            display(t)\n",
    "\n",
    "\n",
    "\n"
   ]
  },
  {
   "cell_type": "code",
   "execution_count": 10,
   "metadata": {
    "tags": []
   },
   "outputs": [
    {
     "data": {
      "application/vnd.jupyter.widget-view+json": {
       "model_id": "db75462d10df4b6ea0b3f807eeb64153",
       "version_major": 2,
       "version_minor": 0
      },
      "text/plain": [
       "VBox(children=(Label(value=''), interactive(children=(Dropdown(description='brand', index=1611, options=('0xac…"
      ]
     },
     "metadata": {},
     "output_type": "display_data"
    }
   ],
   "source": [
    "# Create our selection widgets\n",
    "brands_widget = Dropdown(options=cpeBrands, value=\"google\")\n",
    "product_widget = Dropdown(options=[cpe[1] for cpe in cpeFormatted])\n",
    "\n",
    "# Set up callbacks\n",
    "brands_widget.observe(updateProductSelection)\n",
    "product_widget.observe(updateViperDisplay)\n",
    "\n",
    "\n",
    "pd.set_option('display.max_columns', 500)\n",
    "\n",
    "load_label = Label(value=\"Test\", Layout=Layout(display=\"flex\", justify_content=\"center\", align_items=\"center\", flex='1 1 auto', width = '98%'))\n",
    "product_label = Label()\n",
    "product_label.observe(updateViperProductLabel)\n",
    "# Create and display interactive\n",
    "w = interactive(displayVisualizations, brand = brands_widget, product = product_widget)\n",
    "display_box = VBox([load_label, w], layout= Layout(display=\"flex\", justify_content=\"space-around\", align_items=\"center\", width='100%'))\n",
    "display(display_box)\n",
    "\n"
   ]
  },
  {
   "cell_type": "code",
   "execution_count": null,
   "metadata": {},
   "outputs": [],
   "source": []
  }
 ],
 "metadata": {
  "kernelspec": {
   "display_name": "Python 3 (ipykernel)",
   "language": "python",
   "name": "python3"
  },
  "language_info": {
   "codemirror_mode": {
    "name": "ipython",
    "version": 3
   },
   "file_extension": ".py",
   "mimetype": "text/x-python",
   "name": "python",
   "nbconvert_exporter": "python",
   "pygments_lexer": "ipython3",
   "version": "3.11.2"
  }
 },
 "nbformat": 4,
 "nbformat_minor": 4
}
